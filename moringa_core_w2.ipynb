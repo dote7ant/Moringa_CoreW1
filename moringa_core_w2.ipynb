{
  "nbformat": 4,
  "nbformat_minor": 0,
  "metadata": {
    "colab": {
      "name": "moringa_core_w2.ipynb",
      "provenance": [],
      "collapsed_sections": [
        "pS-wGjsDwMME",
        "P6sAZpGHwSCZ",
        "mTzQFzGuwbh-"
      ],
      "authorship_tag": "ABX9TyOlxeLm0OOviP9d5tnAs0jN",
      "include_colab_link": true
    },
    "kernelspec": {
      "name": "python3",
      "display_name": "Python 3"
    }
  },
  "cells": [
    {
      "cell_type": "markdown",
      "metadata": {
        "id": "view-in-github",
        "colab_type": "text"
      },
      "source": [
        "<a href=\"https://colab.research.google.com/github/dote7ant/Moringa_CoreW1/blob/master/moringa_core_w2.ipynb\" target=\"_parent\"><img src=\"https://colab.research.google.com/assets/colab-badge.svg\" alt=\"Open In Colab\"/></a>"
      ]
    },
    {
      "cell_type": "markdown",
      "metadata": {
        "id": "pS-wGjsDwMME",
        "colab_type": "text"
      },
      "source": [
        "# 1. Getting Started"
      ]
    },
    {
      "cell_type": "markdown",
      "metadata": {
        "id": "VBzazwH-wydI",
        "colab_type": "text"
      },
      "source": [
        "**a) Question**\n",
        "\n",
        "\n",
        "---\n",
        "\n",
        "Figure out how we can predict which individuals are most likely to have or use a bank account. Your solution will help provide an indication of the state of financial inclusion in Kenya, Rwanda, Tanzania, and Uganda, while providing insights into some of the key demographic factors that might drive individuals’ financial outcomes."
      ]
    },
    {
      "cell_type": "markdown",
      "metadata": {
        "id": "Y6SYaK9bxB44",
        "colab_type": "text"
      },
      "source": [
        "b) Defining the Metric for Success\n"
      ]
    },
    {
      "cell_type": "markdown",
      "metadata": {
        "id": "38IfQVzBxLkJ",
        "colab_type": "text"
      },
      "source": [
        "c) Understanding the context"
      ]
    },
    {
      "cell_type": "markdown",
      "metadata": {
        "id": "6cOujzQ1xONr",
        "colab_type": "text"
      },
      "source": [
        "d) Recording the Experimental Design"
      ]
    },
    {
      "cell_type": "markdown",
      "metadata": {
        "id": "qrZaAUO_xRFh",
        "colab_type": "text"
      },
      "source": [
        "e) Data Relevance"
      ]
    },
    {
      "cell_type": "code",
      "metadata": {
        "id": "fzASLYe1wn88",
        "colab_type": "code",
        "colab": {}
      },
      "source": [
        "# import our libraries\n",
        "import pandas as pd\n",
        "import numpy as np\n",
        "import matplotlib.pyplot as plt\n",
        "import seaborn as sns\n",
        "\n",
        "sns.set_style()"
      ],
      "execution_count": null,
      "outputs": []
    },
    {
      "cell_type": "code",
      "metadata": {
        "id": "HQG64QSYx9tk",
        "colab_type": "code",
        "colab": {}
      },
      "source": [
        "# import our data\n",
        "\n",
        "# East Africa data for the countries Kenya, Uganda, Tanzania and Rwanda\n",
        "url = \"http://bit.ly/FinancialDataset\"\n",
        "url_1 = \"http://bit.ly/VariableDefinitions\"\n",
        "df = pd.read_csv(url)\n",
        "df_def = pd.read_csv(url_1)"
      ],
      "execution_count": null,
      "outputs": []
    },
    {
      "cell_type": "code",
      "metadata": {
        "id": "NAmNXEmW4Y4w",
        "colab_type": "code",
        "colab": {
          "base_uri": "https://localhost:8080/",
          "height": 34
        },
        "outputId": "f6105324-ad39-4998-b5df-e33c3c4ee7a6"
      },
      "source": [
        "df.shape"
      ],
      "execution_count": null,
      "outputs": [
        {
          "output_type": "execute_result",
          "data": {
            "text/plain": [
              "(23524, 13)"
            ]
          },
          "metadata": {
            "tags": []
          },
          "execution_count": 146
        }
      ]
    },
    {
      "cell_type": "markdown",
      "metadata": {
        "id": "Alg870ct41Kp",
        "colab_type": "text"
      },
      "source": [
        "The dataset has 23,524 rows and 13 columns"
      ]
    },
    {
      "cell_type": "code",
      "metadata": {
        "id": "z7VcZnwMYxqW",
        "colab_type": "code",
        "colab": {
          "base_uri": "https://localhost:8080/",
          "height": 238
        },
        "outputId": "811cb7e2-ae10-40b5-8299-b92350867d84"
      },
      "source": [
        "print(df_def)"
      ],
      "execution_count": null,
      "outputs": [
        {
          "output_type": "stream",
          "text": [
            "      Variable Definitions                                         Unnamed: 1\n",
            "0                  country                         Country interviewee is in.\n",
            "1                     year                           Year survey was done in.\n",
            "2                 uniqueid             Unique identifier for each interviewee\n",
            "3            location_type                     Type of location: Rural, Urban\n",
            "4         cellphone_access  If interviewee has access to a cellphone: Yes, No\n",
            "5           household_size               Number of people living in one house\n",
            "6        age_of_respondent                         The age of the interviewee\n",
            "7     gender_of_respondent                Gender of interviewee: Male, Female\n",
            "8   relationship_with_head  The interviewee’s relationship with the head o...\n",
            "9           marital_status  The martial status of the interviewee: Married...\n",
            "10         education_level  Highest level of education: No formal educatio...\n",
            "11                job_type  Type of job interviewee has: Farming and Fishi...\n"
          ],
          "name": "stdout"
        }
      ]
    },
    {
      "cell_type": "code",
      "metadata": {
        "id": "lch3Qfid4_oX",
        "colab_type": "code",
        "colab": {
          "base_uri": "https://localhost:8080/",
          "height": 377
        },
        "outputId": "7b91d690-69eb-4f91-9250-97ae4bf1bc87"
      },
      "source": [
        "# Previewing the first 5 \n",
        "df.head()"
      ],
      "execution_count": null,
      "outputs": [
        {
          "output_type": "execute_result",
          "data": {
            "text/html": [
              "<div>\n",
              "<style scoped>\n",
              "    .dataframe tbody tr th:only-of-type {\n",
              "        vertical-align: middle;\n",
              "    }\n",
              "\n",
              "    .dataframe tbody tr th {\n",
              "        vertical-align: top;\n",
              "    }\n",
              "\n",
              "    .dataframe thead th {\n",
              "        text-align: right;\n",
              "    }\n",
              "</style>\n",
              "<table border=\"1\" class=\"dataframe\">\n",
              "  <thead>\n",
              "    <tr style=\"text-align: right;\">\n",
              "      <th></th>\n",
              "      <th>country</th>\n",
              "      <th>year</th>\n",
              "      <th>uniqueid</th>\n",
              "      <th>Has a Bank account</th>\n",
              "      <th>Type of Location</th>\n",
              "      <th>Cell Phone Access</th>\n",
              "      <th>household_size</th>\n",
              "      <th>Respondent Age</th>\n",
              "      <th>gender_of_respondent</th>\n",
              "      <th>The relathip with head</th>\n",
              "      <th>marital_status</th>\n",
              "      <th>Level of Educuation</th>\n",
              "      <th>Type of Job</th>\n",
              "    </tr>\n",
              "  </thead>\n",
              "  <tbody>\n",
              "    <tr>\n",
              "      <th>0</th>\n",
              "      <td>Kenya</td>\n",
              "      <td>2018</td>\n",
              "      <td>uniqueid_1</td>\n",
              "      <td>Yes</td>\n",
              "      <td>Rural</td>\n",
              "      <td>Yes</td>\n",
              "      <td>3.0</td>\n",
              "      <td>24.0</td>\n",
              "      <td>Female</td>\n",
              "      <td>Spouse</td>\n",
              "      <td>Married/Living together</td>\n",
              "      <td>Secondary education</td>\n",
              "      <td>Self employed</td>\n",
              "    </tr>\n",
              "    <tr>\n",
              "      <th>1</th>\n",
              "      <td>Kenya</td>\n",
              "      <td>2018</td>\n",
              "      <td>uniqueid_2</td>\n",
              "      <td>No</td>\n",
              "      <td>Rural</td>\n",
              "      <td>No</td>\n",
              "      <td>5.0</td>\n",
              "      <td>70.0</td>\n",
              "      <td>Female</td>\n",
              "      <td>Head of Household</td>\n",
              "      <td>Widowed</td>\n",
              "      <td>No formal education</td>\n",
              "      <td>Government Dependent</td>\n",
              "    </tr>\n",
              "    <tr>\n",
              "      <th>2</th>\n",
              "      <td>Kenya</td>\n",
              "      <td>2018</td>\n",
              "      <td>uniqueid_3</td>\n",
              "      <td>Yes</td>\n",
              "      <td>Urban</td>\n",
              "      <td>Yes</td>\n",
              "      <td>5.0</td>\n",
              "      <td>26.0</td>\n",
              "      <td>Male</td>\n",
              "      <td>Other relative</td>\n",
              "      <td>Single/Never Married</td>\n",
              "      <td>Vocational/Specialised training</td>\n",
              "      <td>Self employed</td>\n",
              "    </tr>\n",
              "    <tr>\n",
              "      <th>3</th>\n",
              "      <td>Kenya</td>\n",
              "      <td>2018</td>\n",
              "      <td>uniqueid_4</td>\n",
              "      <td>No</td>\n",
              "      <td>Rural</td>\n",
              "      <td>Yes</td>\n",
              "      <td>5.0</td>\n",
              "      <td>34.0</td>\n",
              "      <td>Female</td>\n",
              "      <td>Head of Household</td>\n",
              "      <td>Married/Living together</td>\n",
              "      <td>Primary education</td>\n",
              "      <td>Formally employed Private</td>\n",
              "    </tr>\n",
              "    <tr>\n",
              "      <th>4</th>\n",
              "      <td>Kenya</td>\n",
              "      <td>2018</td>\n",
              "      <td>uniqueid_5</td>\n",
              "      <td>No</td>\n",
              "      <td>Urban</td>\n",
              "      <td>No</td>\n",
              "      <td>8.0</td>\n",
              "      <td>26.0</td>\n",
              "      <td>Male</td>\n",
              "      <td>Child</td>\n",
              "      <td>Single/Never Married</td>\n",
              "      <td>Primary education</td>\n",
              "      <td>Informally employed</td>\n",
              "    </tr>\n",
              "  </tbody>\n",
              "</table>\n",
              "</div>"
            ],
            "text/plain": [
              "  country  year  ...              Level of Educuation                Type of Job\n",
              "0   Kenya  2018  ...              Secondary education              Self employed\n",
              "1   Kenya  2018  ...              No formal education       Government Dependent\n",
              "2   Kenya  2018  ...  Vocational/Specialised training              Self employed\n",
              "3   Kenya  2018  ...                Primary education  Formally employed Private\n",
              "4   Kenya  2018  ...                Primary education        Informally employed\n",
              "\n",
              "[5 rows x 13 columns]"
            ]
          },
          "metadata": {
            "tags": []
          },
          "execution_count": 148
        }
      ]
    },
    {
      "cell_type": "code",
      "metadata": {
        "id": "70YOY2Ew5KmI",
        "colab_type": "code",
        "colab": {
          "base_uri": "https://localhost:8080/",
          "height": 360
        },
        "outputId": "f32fed9a-73ec-419f-8744-aa01902f866e"
      },
      "source": [
        "# Previewing the last 5 \n",
        "df.tail()"
      ],
      "execution_count": null,
      "outputs": [
        {
          "output_type": "execute_result",
          "data": {
            "text/html": [
              "<div>\n",
              "<style scoped>\n",
              "    .dataframe tbody tr th:only-of-type {\n",
              "        vertical-align: middle;\n",
              "    }\n",
              "\n",
              "    .dataframe tbody tr th {\n",
              "        vertical-align: top;\n",
              "    }\n",
              "\n",
              "    .dataframe thead th {\n",
              "        text-align: right;\n",
              "    }\n",
              "</style>\n",
              "<table border=\"1\" class=\"dataframe\">\n",
              "  <thead>\n",
              "    <tr style=\"text-align: right;\">\n",
              "      <th></th>\n",
              "      <th>country</th>\n",
              "      <th>year</th>\n",
              "      <th>uniqueid</th>\n",
              "      <th>Has a Bank account</th>\n",
              "      <th>Type of Location</th>\n",
              "      <th>Cell Phone Access</th>\n",
              "      <th>household_size</th>\n",
              "      <th>Respondent Age</th>\n",
              "      <th>gender_of_respondent</th>\n",
              "      <th>The relathip with head</th>\n",
              "      <th>marital_status</th>\n",
              "      <th>Level of Educuation</th>\n",
              "      <th>Type of Job</th>\n",
              "    </tr>\n",
              "  </thead>\n",
              "  <tbody>\n",
              "    <tr>\n",
              "      <th>23519</th>\n",
              "      <td>Uganda</td>\n",
              "      <td>2018</td>\n",
              "      <td>uniqueid_2113</td>\n",
              "      <td>No</td>\n",
              "      <td>Rural</td>\n",
              "      <td>Yes</td>\n",
              "      <td>4.0</td>\n",
              "      <td>48.0</td>\n",
              "      <td>Female</td>\n",
              "      <td>Head of Household</td>\n",
              "      <td>Divorced/Seperated</td>\n",
              "      <td>No formal education</td>\n",
              "      <td>Other Income</td>\n",
              "    </tr>\n",
              "    <tr>\n",
              "      <th>23520</th>\n",
              "      <td>Uganda</td>\n",
              "      <td>2018</td>\n",
              "      <td>uniqueid_2114</td>\n",
              "      <td>No</td>\n",
              "      <td>Rural</td>\n",
              "      <td>Yes</td>\n",
              "      <td>2.0</td>\n",
              "      <td>27.0</td>\n",
              "      <td>Female</td>\n",
              "      <td>Head of Household</td>\n",
              "      <td>Single/Never Married</td>\n",
              "      <td>Secondary education</td>\n",
              "      <td>Other Income</td>\n",
              "    </tr>\n",
              "    <tr>\n",
              "      <th>23521</th>\n",
              "      <td>Uganda</td>\n",
              "      <td>2018</td>\n",
              "      <td>uniqueid_2115</td>\n",
              "      <td>No</td>\n",
              "      <td>Rural</td>\n",
              "      <td>Yes</td>\n",
              "      <td>5.0</td>\n",
              "      <td>27.0</td>\n",
              "      <td>Female</td>\n",
              "      <td>Parent</td>\n",
              "      <td>Widowed</td>\n",
              "      <td>Primary education</td>\n",
              "      <td>Other Income</td>\n",
              "    </tr>\n",
              "    <tr>\n",
              "      <th>23522</th>\n",
              "      <td>Uganda</td>\n",
              "      <td>2018</td>\n",
              "      <td>uniqueid_2116</td>\n",
              "      <td>No</td>\n",
              "      <td>Urban</td>\n",
              "      <td>Yes</td>\n",
              "      <td>7.0</td>\n",
              "      <td>30.0</td>\n",
              "      <td>Female</td>\n",
              "      <td>Parent</td>\n",
              "      <td>Divorced/Seperated</td>\n",
              "      <td>Secondary education</td>\n",
              "      <td>Self employed</td>\n",
              "    </tr>\n",
              "    <tr>\n",
              "      <th>23523</th>\n",
              "      <td>Uganda</td>\n",
              "      <td>2018</td>\n",
              "      <td>uniqueid_2117</td>\n",
              "      <td>No</td>\n",
              "      <td>Rural</td>\n",
              "      <td>Yes</td>\n",
              "      <td>10.0</td>\n",
              "      <td>20.0</td>\n",
              "      <td>Male</td>\n",
              "      <td>Child</td>\n",
              "      <td>Single/Never Married</td>\n",
              "      <td>Secondary education</td>\n",
              "      <td>No Income</td>\n",
              "    </tr>\n",
              "  </tbody>\n",
              "</table>\n",
              "</div>"
            ],
            "text/plain": [
              "      country  year  ...  Level of Educuation    Type of Job\n",
              "23519  Uganda  2018  ...  No formal education   Other Income\n",
              "23520  Uganda  2018  ...  Secondary education   Other Income\n",
              "23521  Uganda  2018  ...    Primary education   Other Income\n",
              "23522  Uganda  2018  ...  Secondary education  Self employed\n",
              "23523  Uganda  2018  ...  Secondary education      No Income\n",
              "\n",
              "[5 rows x 13 columns]"
            ]
          },
          "metadata": {
            "tags": []
          },
          "execution_count": 149
        }
      ]
    },
    {
      "cell_type": "code",
      "metadata": {
        "id": "sBf_FLk2q7MD",
        "colab_type": "code",
        "colab": {
          "base_uri": "https://localhost:8080/",
          "height": 289
        },
        "outputId": "105e15c7-3231-408f-cd6e-247ab48b1585"
      },
      "source": [
        "# rename the columns\n",
        "# changing and formatting the dataset column names:\n",
        "df.rename(columns={\"country\": \"country\", \"year\": \"year\", \"uniqueid\": \"uniqueid\", \"Has a Bank account\": \"bank_acc\", \"Type of Location\": \"location\", \"Cell Phone Access\": \"cell_phone\", \"household_size\": \"household_size\", \"Respondent Age\": \"age\", \"gender_of_respondent\": \"gender\", \"The relathip with head\": \"relationship\", \"marital_status\": \"marital_status\", \"Level of Educuation\": \"education\", \"Type of Job\": \"job_type\"}, inplace=True)\n",
        "df.head()"
      ],
      "execution_count": null,
      "outputs": [
        {
          "output_type": "execute_result",
          "data": {
            "text/html": [
              "<div>\n",
              "<style scoped>\n",
              "    .dataframe tbody tr th:only-of-type {\n",
              "        vertical-align: middle;\n",
              "    }\n",
              "\n",
              "    .dataframe tbody tr th {\n",
              "        vertical-align: top;\n",
              "    }\n",
              "\n",
              "    .dataframe thead th {\n",
              "        text-align: right;\n",
              "    }\n",
              "</style>\n",
              "<table border=\"1\" class=\"dataframe\">\n",
              "  <thead>\n",
              "    <tr style=\"text-align: right;\">\n",
              "      <th></th>\n",
              "      <th>country</th>\n",
              "      <th>year</th>\n",
              "      <th>uniqueid</th>\n",
              "      <th>bank_acc</th>\n",
              "      <th>location</th>\n",
              "      <th>cell_phone</th>\n",
              "      <th>household_size</th>\n",
              "      <th>age</th>\n",
              "      <th>gender</th>\n",
              "      <th>relationship</th>\n",
              "      <th>marital_status</th>\n",
              "      <th>education</th>\n",
              "      <th>job_type</th>\n",
              "    </tr>\n",
              "  </thead>\n",
              "  <tbody>\n",
              "    <tr>\n",
              "      <th>0</th>\n",
              "      <td>Kenya</td>\n",
              "      <td>2018</td>\n",
              "      <td>uniqueid_1</td>\n",
              "      <td>Yes</td>\n",
              "      <td>Rural</td>\n",
              "      <td>Yes</td>\n",
              "      <td>3.0</td>\n",
              "      <td>24.0</td>\n",
              "      <td>Female</td>\n",
              "      <td>Spouse</td>\n",
              "      <td>Married/Living together</td>\n",
              "      <td>Secondary education</td>\n",
              "      <td>Self employed</td>\n",
              "    </tr>\n",
              "    <tr>\n",
              "      <th>1</th>\n",
              "      <td>Kenya</td>\n",
              "      <td>2018</td>\n",
              "      <td>uniqueid_2</td>\n",
              "      <td>No</td>\n",
              "      <td>Rural</td>\n",
              "      <td>No</td>\n",
              "      <td>5.0</td>\n",
              "      <td>70.0</td>\n",
              "      <td>Female</td>\n",
              "      <td>Head of Household</td>\n",
              "      <td>Widowed</td>\n",
              "      <td>No formal education</td>\n",
              "      <td>Government Dependent</td>\n",
              "    </tr>\n",
              "    <tr>\n",
              "      <th>2</th>\n",
              "      <td>Kenya</td>\n",
              "      <td>2018</td>\n",
              "      <td>uniqueid_3</td>\n",
              "      <td>Yes</td>\n",
              "      <td>Urban</td>\n",
              "      <td>Yes</td>\n",
              "      <td>5.0</td>\n",
              "      <td>26.0</td>\n",
              "      <td>Male</td>\n",
              "      <td>Other relative</td>\n",
              "      <td>Single/Never Married</td>\n",
              "      <td>Vocational/Specialised training</td>\n",
              "      <td>Self employed</td>\n",
              "    </tr>\n",
              "    <tr>\n",
              "      <th>3</th>\n",
              "      <td>Kenya</td>\n",
              "      <td>2018</td>\n",
              "      <td>uniqueid_4</td>\n",
              "      <td>No</td>\n",
              "      <td>Rural</td>\n",
              "      <td>Yes</td>\n",
              "      <td>5.0</td>\n",
              "      <td>34.0</td>\n",
              "      <td>Female</td>\n",
              "      <td>Head of Household</td>\n",
              "      <td>Married/Living together</td>\n",
              "      <td>Primary education</td>\n",
              "      <td>Formally employed Private</td>\n",
              "    </tr>\n",
              "    <tr>\n",
              "      <th>4</th>\n",
              "      <td>Kenya</td>\n",
              "      <td>2018</td>\n",
              "      <td>uniqueid_5</td>\n",
              "      <td>No</td>\n",
              "      <td>Urban</td>\n",
              "      <td>No</td>\n",
              "      <td>8.0</td>\n",
              "      <td>26.0</td>\n",
              "      <td>Male</td>\n",
              "      <td>Child</td>\n",
              "      <td>Single/Never Married</td>\n",
              "      <td>Primary education</td>\n",
              "      <td>Informally employed</td>\n",
              "    </tr>\n",
              "  </tbody>\n",
              "</table>\n",
              "</div>"
            ],
            "text/plain": [
              "  country  year  ...                        education                   job_type\n",
              "0   Kenya  2018  ...              Secondary education              Self employed\n",
              "1   Kenya  2018  ...              No formal education       Government Dependent\n",
              "2   Kenya  2018  ...  Vocational/Specialised training              Self employed\n",
              "3   Kenya  2018  ...                Primary education  Formally employed Private\n",
              "4   Kenya  2018  ...                Primary education        Informally employed\n",
              "\n",
              "[5 rows x 13 columns]"
            ]
          },
          "metadata": {
            "tags": []
          },
          "execution_count": 150
        }
      ]
    },
    {
      "cell_type": "code",
      "metadata": {
        "id": "Eun-XvRwsM50",
        "colab_type": "code",
        "colab": {
          "base_uri": "https://localhost:8080/",
          "height": 272
        },
        "outputId": "4bf77166-b94f-4930-9777-bb6474f7c69e"
      },
      "source": [
        "# drop the uniqueid column\n",
        "df = df.drop(columns = ['uniqueid'])\n",
        "df.head()"
      ],
      "execution_count": null,
      "outputs": [
        {
          "output_type": "execute_result",
          "data": {
            "text/html": [
              "<div>\n",
              "<style scoped>\n",
              "    .dataframe tbody tr th:only-of-type {\n",
              "        vertical-align: middle;\n",
              "    }\n",
              "\n",
              "    .dataframe tbody tr th {\n",
              "        vertical-align: top;\n",
              "    }\n",
              "\n",
              "    .dataframe thead th {\n",
              "        text-align: right;\n",
              "    }\n",
              "</style>\n",
              "<table border=\"1\" class=\"dataframe\">\n",
              "  <thead>\n",
              "    <tr style=\"text-align: right;\">\n",
              "      <th></th>\n",
              "      <th>country</th>\n",
              "      <th>year</th>\n",
              "      <th>bank_acc</th>\n",
              "      <th>location</th>\n",
              "      <th>cell_phone</th>\n",
              "      <th>household_size</th>\n",
              "      <th>age</th>\n",
              "      <th>gender</th>\n",
              "      <th>relationship</th>\n",
              "      <th>marital_status</th>\n",
              "      <th>education</th>\n",
              "      <th>job_type</th>\n",
              "    </tr>\n",
              "  </thead>\n",
              "  <tbody>\n",
              "    <tr>\n",
              "      <th>0</th>\n",
              "      <td>Kenya</td>\n",
              "      <td>2018</td>\n",
              "      <td>Yes</td>\n",
              "      <td>Rural</td>\n",
              "      <td>Yes</td>\n",
              "      <td>3.0</td>\n",
              "      <td>24.0</td>\n",
              "      <td>Female</td>\n",
              "      <td>Spouse</td>\n",
              "      <td>Married/Living together</td>\n",
              "      <td>Secondary education</td>\n",
              "      <td>Self employed</td>\n",
              "    </tr>\n",
              "    <tr>\n",
              "      <th>1</th>\n",
              "      <td>Kenya</td>\n",
              "      <td>2018</td>\n",
              "      <td>No</td>\n",
              "      <td>Rural</td>\n",
              "      <td>No</td>\n",
              "      <td>5.0</td>\n",
              "      <td>70.0</td>\n",
              "      <td>Female</td>\n",
              "      <td>Head of Household</td>\n",
              "      <td>Widowed</td>\n",
              "      <td>No formal education</td>\n",
              "      <td>Government Dependent</td>\n",
              "    </tr>\n",
              "    <tr>\n",
              "      <th>2</th>\n",
              "      <td>Kenya</td>\n",
              "      <td>2018</td>\n",
              "      <td>Yes</td>\n",
              "      <td>Urban</td>\n",
              "      <td>Yes</td>\n",
              "      <td>5.0</td>\n",
              "      <td>26.0</td>\n",
              "      <td>Male</td>\n",
              "      <td>Other relative</td>\n",
              "      <td>Single/Never Married</td>\n",
              "      <td>Vocational/Specialised training</td>\n",
              "      <td>Self employed</td>\n",
              "    </tr>\n",
              "    <tr>\n",
              "      <th>3</th>\n",
              "      <td>Kenya</td>\n",
              "      <td>2018</td>\n",
              "      <td>No</td>\n",
              "      <td>Rural</td>\n",
              "      <td>Yes</td>\n",
              "      <td>5.0</td>\n",
              "      <td>34.0</td>\n",
              "      <td>Female</td>\n",
              "      <td>Head of Household</td>\n",
              "      <td>Married/Living together</td>\n",
              "      <td>Primary education</td>\n",
              "      <td>Formally employed Private</td>\n",
              "    </tr>\n",
              "    <tr>\n",
              "      <th>4</th>\n",
              "      <td>Kenya</td>\n",
              "      <td>2018</td>\n",
              "      <td>No</td>\n",
              "      <td>Urban</td>\n",
              "      <td>No</td>\n",
              "      <td>8.0</td>\n",
              "      <td>26.0</td>\n",
              "      <td>Male</td>\n",
              "      <td>Child</td>\n",
              "      <td>Single/Never Married</td>\n",
              "      <td>Primary education</td>\n",
              "      <td>Informally employed</td>\n",
              "    </tr>\n",
              "  </tbody>\n",
              "</table>\n",
              "</div>"
            ],
            "text/plain": [
              "  country  year  ...                        education                   job_type\n",
              "0   Kenya  2018  ...              Secondary education              Self employed\n",
              "1   Kenya  2018  ...              No formal education       Government Dependent\n",
              "2   Kenya  2018  ...  Vocational/Specialised training              Self employed\n",
              "3   Kenya  2018  ...                Primary education  Formally employed Private\n",
              "4   Kenya  2018  ...                Primary education        Informally employed\n",
              "\n",
              "[5 rows x 12 columns]"
            ]
          },
          "metadata": {
            "tags": []
          },
          "execution_count": 151
        }
      ]
    },
    {
      "cell_type": "markdown",
      "metadata": {
        "id": "xbFVooeR5ftC",
        "colab_type": "text"
      },
      "source": [
        "Get data info"
      ]
    },
    {
      "cell_type": "code",
      "metadata": {
        "id": "X5NHW5LG5i12",
        "colab_type": "code",
        "colab": {
          "base_uri": "https://localhost:8080/",
          "height": 340
        },
        "outputId": "ba871f6a-1a16-46f1-a12d-f2f5fab6e7e4"
      },
      "source": [
        "df.info()"
      ],
      "execution_count": null,
      "outputs": [
        {
          "output_type": "stream",
          "text": [
            "<class 'pandas.core.frame.DataFrame'>\n",
            "RangeIndex: 23524 entries, 0 to 23523\n",
            "Data columns (total 12 columns):\n",
            " #   Column          Non-Null Count  Dtype  \n",
            "---  ------          --------------  -----  \n",
            " 0   country         23510 non-null  object \n",
            " 1   year            23524 non-null  int64  \n",
            " 2   bank_acc        23488 non-null  object \n",
            " 3   location        23509 non-null  object \n",
            " 4   cell_phone      23513 non-null  object \n",
            " 5   household_size  23496 non-null  float64\n",
            " 6   age             23490 non-null  float64\n",
            " 7   gender          23490 non-null  object \n",
            " 8   relationship    23520 non-null  object \n",
            " 9   marital_status  23492 non-null  object \n",
            " 10  education       23495 non-null  object \n",
            " 11  job_type        23494 non-null  object \n",
            "dtypes: float64(2), int64(1), object(9)\n",
            "memory usage: 2.2+ MB\n"
          ],
          "name": "stdout"
        }
      ]
    },
    {
      "cell_type": "markdown",
      "metadata": {
        "id": "tJeNwDePfdC_",
        "colab_type": "text"
      },
      "source": [
        "**Validation**\n",
        "\n",
        "\n",
        "---\n",
        "By going through the following resources we determine that the data that we have is valid.\n",
        "1. https://fsdkenya.org/publication/finaccess2019/\n",
        "2. http://www.statistics.gov.rw/publication/finscope-rwanda-2016\n",
        "3. http://www.fsdt.or.tz/finscope/\n",
        "4. http://fsduganda.or.ug/finscope-2018-survey-report/\n"
      ]
    },
    {
      "cell_type": "markdown",
      "metadata": {
        "id": "53O9fBO8f_LB",
        "colab_type": "text"
      },
      "source": [
        "**Checking for outliers**"
      ]
    },
    {
      "cell_type": "code",
      "metadata": {
        "id": "YaU0KkPyhOjq",
        "colab_type": "code",
        "colab": {
          "base_uri": "https://localhost:8080/",
          "height": 494
        },
        "outputId": "69adbbb2-353a-4503-92cf-e7c412660766"
      },
      "source": [
        "fig, ((ax1, ax2, ax3)) = plt.subplots(1,3, figsize=(15, 7))\n",
        "fig.suptitle('Boxplots')\n",
        "\n",
        "sns.boxplot(df['year'], ax=ax1)\n",
        "sns.boxplot(df['household_size'], ax=ax2)\n",
        "sns.boxplot(df['age'], ax=ax3)\n",
        "\n",
        "plt.show()"
      ],
      "execution_count": null,
      "outputs": [
        {
          "output_type": "display_data",
          "data": {
            "image/png": "[encoded data removed]",
            "text/plain": [
              "<Figure size 1080x504 with 3 Axes>"
            ]
          },
          "metadata": {
            "tags": [],
            "needs_background": "light"
          }
        }
      ]
    },
    {
      "cell_type": "markdown",
      "metadata": {
        "id": "va3r2z5dhmwz",
        "colab_type": "text"
      },
      "source": [
        "look at the data"
      ]
    },
    {
      "cell_type": "code",
      "metadata": {
        "id": "aeY6K0SKhrDN",
        "colab_type": "code",
        "colab": {}
      },
      "source": [
        "# display the data\n",
        "df[['year', 'household_size', 'age']].head(50)"
      ],
      "execution_count": null,
      "outputs": []
    },
    {
      "cell_type": "markdown",
      "metadata": {
        "id": "hnswvmNniNR2",
        "colab_type": "text"
      },
      "source": [
        "We notice that the respondents age has a lot of outliers but we decide not to remove them since they might give insight on what the older generation considers about finance."
      ]
    },
    {
      "cell_type": "code",
      "metadata": {
        "id": "qby7-y5FifPL",
        "colab_type": "code",
        "colab": {
          "base_uri": "https://localhost:8080/",
          "height": 238
        },
        "outputId": "5539fc91-7618-49e2-baf9-4f30f2800b3e"
      },
      "source": [
        "# Find missing values\n",
        "df.isnull().sum()"
      ],
      "execution_count": null,
      "outputs": [
        {
          "output_type": "execute_result",
          "data": {
            "text/plain": [
              "country           14\n",
              "year               0\n",
              "bank_acc          36\n",
              "location          15\n",
              "cell_phone        11\n",
              "household_size    28\n",
              "age               34\n",
              "gender            34\n",
              "relationship       4\n",
              "marital_status    32\n",
              "education         29\n",
              "job_type          30\n",
              "dtype: int64"
            ]
          },
          "metadata": {
            "tags": []
          },
          "execution_count": 79
        }
      ]
    },
    {
      "cell_type": "markdown",
      "metadata": {
        "id": "-lNEnAMsimAB",
        "colab_type": "text"
      },
      "source": [
        "There are missing values across the columns"
      ]
    },
    {
      "cell_type": "code",
      "metadata": {
        "id": "vRO05xBmjMeo",
        "colab_type": "code",
        "colab": {
          "base_uri": "https://localhost:8080/",
          "height": 306
        },
        "outputId": "27d1b14f-23df-4f56-9579-2023fa56fa2e"
      },
      "source": [
        "# preview missing values\n",
        "a = pd.isnull(df['country'])  \n",
        "# displaying data only with \"country\" = NaN  \n",
        "print(df[a])"
      ],
      "execution_count": null,
      "outputs": [
        {
          "output_type": "stream",
          "text": [
            "      country  year  ...            education              job_type\n",
            "18200     NaN  2017  ...    Primary education  Remittance Dependent\n",
            "18201     NaN  2017  ...    Primary education         Self employed\n",
            "18202     NaN  2017  ...    Primary education             No Income\n",
            "18203     NaN  2017  ...  No formal education         Self employed\n",
            "18204     NaN  2017  ...  No formal education         Self employed\n",
            "18205     NaN  2017  ...  Secondary education  Remittance Dependent\n",
            "18206     NaN  2017  ...  No formal education         Self employed\n",
            "18207     NaN  2017  ...  No formal education         Self employed\n",
            "18208     NaN  2017  ...  No formal education         Self employed\n",
            "18312     NaN  2017  ...  Secondary education             No Income\n",
            "18313     NaN  2017  ...  No formal education   Informally employed\n",
            "18314     NaN  2017  ...    Primary education         Self employed\n",
            "18315     NaN  2017  ...    Primary education         Self employed\n",
            "18316     NaN  2017  ...  No formal education  Remittance Dependent\n",
            "\n",
            "[14 rows x 12 columns]\n"
          ],
          "name": "stdout"
        }
      ]
    },
    {
      "cell_type": "code",
      "metadata": {
        "id": "GLtZ-bKXi-NN",
        "colab_type": "code",
        "colab": {}
      },
      "source": [
        "# dealing with missing data\n",
        "# we decide to remove all our missing values from the data \n",
        "df_clean = df.dropna()"
      ],
      "execution_count": null,
      "outputs": []
    },
    {
      "cell_type": "code",
      "metadata": {
        "id": "8dbV759ek477",
        "colab_type": "code",
        "colab": {
          "base_uri": "https://localhost:8080/",
          "height": 238
        },
        "outputId": "1d746cd7-2579-4671-b755-56566559d54a"
      },
      "source": [
        "# find if there still any null values\n",
        "df_clean.isnull().sum()"
      ],
      "execution_count": null,
      "outputs": [
        {
          "output_type": "execute_result",
          "data": {
            "text/plain": [
              "country           0\n",
              "year              0\n",
              "bank_acc          0\n",
              "location          0\n",
              "cell_phone        0\n",
              "household_size    0\n",
              "age               0\n",
              "gender            0\n",
              "relationship      0\n",
              "marital_status    0\n",
              "education         0\n",
              "job_type          0\n",
              "dtype: int64"
            ]
          },
          "metadata": {
            "tags": []
          },
          "execution_count": 157
        }
      ]
    },
    {
      "cell_type": "code",
      "metadata": {
        "id": "BwQ_45_KlXOt",
        "colab_type": "code",
        "colab": {
          "base_uri": "https://localhost:8080/",
          "height": 34
        },
        "outputId": "02765e9e-070a-4cf8-ff36-afce09f043b8"
      },
      "source": [
        "# show our new shape for the dataset\n",
        "df_clean.shape"
      ],
      "execution_count": null,
      "outputs": [
        {
          "output_type": "execute_result",
          "data": {
            "text/plain": [
              "(23343, 12)"
            ]
          },
          "metadata": {
            "tags": []
          },
          "execution_count": 158
        }
      ]
    },
    {
      "cell_type": "code",
      "metadata": {
        "id": "IeOWgmb_laji",
        "colab_type": "code",
        "colab": {
          "base_uri": "https://localhost:8080/",
          "height": 289
        },
        "outputId": "42065687-e507-4dfd-c453-919b2c18b452"
      },
      "source": [
        "print(df_clean.head())\n",
        "print(df_clean.tail())"
      ],
      "execution_count": null,
      "outputs": [
        {
          "output_type": "stream",
          "text": [
            "  country  year  ...                        education                   job_type\n",
            "0   Kenya  2018  ...              Secondary education              Self employed\n",
            "1   Kenya  2018  ...              No formal education       Government Dependent\n",
            "2   Kenya  2018  ...  Vocational/Specialised training              Self employed\n",
            "3   Kenya  2018  ...                Primary education  Formally employed Private\n",
            "4   Kenya  2018  ...                Primary education        Informally employed\n",
            "\n",
            "[5 rows x 12 columns]\n",
            "      country  year  ...            education       job_type\n",
            "23519  Uganda  2018  ...  No formal education   Other Income\n",
            "23520  Uganda  2018  ...  Secondary education   Other Income\n",
            "23521  Uganda  2018  ...    Primary education   Other Income\n",
            "23522  Uganda  2018  ...  Secondary education  Self employed\n",
            "23523  Uganda  2018  ...  Secondary education      No Income\n",
            "\n",
            "[5 rows x 12 columns]\n"
          ],
          "name": "stdout"
        }
      ]
    },
    {
      "cell_type": "markdown",
      "metadata": {
        "id": "P6sAZpGHwSCZ",
        "colab_type": "text"
      },
      "source": [
        "# 2. Univariate analysis"
      ]
    },
    {
      "cell_type": "code",
      "metadata": {
        "id": "iEd7QWBHlRyg",
        "colab_type": "code",
        "colab": {
          "base_uri": "https://localhost:8080/",
          "height": 173
        },
        "outputId": "f3ebd831-f8ec-498b-ff71-614a878fce46"
      },
      "source": [
        "# Exploratory analysis\n",
        "# here we attempt to find the most item in the columns and frequency\n",
        "df_clean.describe(include=np.object)"
      ],
      "execution_count": null,
      "outputs": [
        {
          "output_type": "execute_result",
          "data": {
            "text/html": [
              "<div>\n",
              "<style scoped>\n",
              "    .dataframe tbody tr th:only-of-type {\n",
              "        vertical-align: middle;\n",
              "    }\n",
              "\n",
              "    .dataframe tbody tr th {\n",
              "        vertical-align: top;\n",
              "    }\n",
              "\n",
              "    .dataframe thead th {\n",
              "        text-align: right;\n",
              "    }\n",
              "</style>\n",
              "<table border=\"1\" class=\"dataframe\">\n",
              "  <thead>\n",
              "    <tr style=\"text-align: right;\">\n",
              "      <th></th>\n",
              "      <th>country</th>\n",
              "      <th>bank_acc</th>\n",
              "      <th>location</th>\n",
              "      <th>cell_phone</th>\n",
              "      <th>gender</th>\n",
              "      <th>relationship</th>\n",
              "      <th>marital_status</th>\n",
              "      <th>education</th>\n",
              "      <th>job_type</th>\n",
              "    </tr>\n",
              "  </thead>\n",
              "  <tbody>\n",
              "    <tr>\n",
              "      <th>count</th>\n",
              "      <td>23343</td>\n",
              "      <td>23343</td>\n",
              "      <td>23343</td>\n",
              "      <td>23343</td>\n",
              "      <td>23343</td>\n",
              "      <td>23343</td>\n",
              "      <td>23343</td>\n",
              "      <td>23343</td>\n",
              "      <td>23343</td>\n",
              "    </tr>\n",
              "    <tr>\n",
              "      <th>unique</th>\n",
              "      <td>4</td>\n",
              "      <td>2</td>\n",
              "      <td>2</td>\n",
              "      <td>2</td>\n",
              "      <td>2</td>\n",
              "      <td>6</td>\n",
              "      <td>5</td>\n",
              "      <td>7</td>\n",
              "      <td>10</td>\n",
              "    </tr>\n",
              "    <tr>\n",
              "      <th>top</th>\n",
              "      <td>Rwanda</td>\n",
              "      <td>No</td>\n",
              "      <td>Rural</td>\n",
              "      <td>Yes</td>\n",
              "      <td>Female</td>\n",
              "      <td>Head of Household</td>\n",
              "      <td>Married/Living together</td>\n",
              "      <td>Primary education</td>\n",
              "      <td>Self employed</td>\n",
              "    </tr>\n",
              "    <tr>\n",
              "      <th>freq</th>\n",
              "      <td>8684</td>\n",
              "      <td>20046</td>\n",
              "      <td>14264</td>\n",
              "      <td>17334</td>\n",
              "      <td>13767</td>\n",
              "      <td>12730</td>\n",
              "      <td>10700</td>\n",
              "      <td>12689</td>\n",
              "      <td>6361</td>\n",
              "    </tr>\n",
              "  </tbody>\n",
              "</table>\n",
              "</div>"
            ],
            "text/plain": [
              "       country bank_acc  ...          education       job_type\n",
              "count    23343    23343  ...              23343          23343\n",
              "unique       4        2  ...                  7             10\n",
              "top     Rwanda       No  ...  Primary education  Self employed\n",
              "freq      8684    20046  ...              12689           6361\n",
              "\n",
              "[4 rows x 9 columns]"
            ]
          },
          "metadata": {
            "tags": []
          },
          "execution_count": 159
        }
      ]
    },
    {
      "cell_type": "code",
      "metadata": {
        "id": "DIWiVjB88rKD",
        "colab_type": "code",
        "colab": {
          "base_uri": "https://localhost:8080/",
          "height": 204
        },
        "outputId": "28e1c83a-a642-4fa7-c805-32da3402f7e1"
      },
      "source": [
        "# calculate the first quartile\n",
        "Q1 = df_clean.quantile(0.25)\n",
        "\n",
        "# display the first quartile\n",
        "Q1"
      ],
      "execution_count": null,
      "outputs": [
        {
          "output_type": "execute_result",
          "data": {
            "text/plain": [
              "year              2016.0\n",
              "bank_acc             0.0\n",
              "location             0.0\n",
              "cell_phone           0.0\n",
              "household_size       2.0\n",
              "age                 26.0\n",
              "gender               0.0\n",
              "relationship         1.0\n",
              "marital_status       2.0\n",
              "education            3.0\n",
              "Name: 0.25, dtype: float64"
            ]
          },
          "metadata": {
            "tags": []
          },
          "execution_count": 178
        }
      ]
    },
    {
      "cell_type": "code",
      "metadata": {
        "id": "AOR0in4o9U1m",
        "colab_type": "code",
        "colab": {
          "base_uri": "https://localhost:8080/",
          "height": 204
        },
        "outputId": "26439459-50ef-43ba-d86c-39e9ba71e419"
      },
      "source": [
        "# calculate the third quartile\n",
        "Q3 = df_clean.quantile(0.75)\n",
        "\n",
        "# display the third quartile\n",
        "Q3"
      ],
      "execution_count": null,
      "outputs": [
        {
          "output_type": "execute_result",
          "data": {
            "text/plain": [
              "year              2018.0\n",
              "bank_acc             0.0\n",
              "location             1.0\n",
              "cell_phone           1.0\n",
              "household_size       5.0\n",
              "age                 49.0\n",
              "gender               1.0\n",
              "relationship         5.0\n",
              "marital_status       3.0\n",
              "education            4.0\n",
              "Name: 0.75, dtype: float64"
            ]
          },
          "metadata": {
            "tags": []
          },
          "execution_count": 179
        }
      ]
    },
    {
      "cell_type": "code",
      "metadata": {
        "id": "wrn6bhKr9XIq",
        "colab_type": "code",
        "colab": {
          "base_uri": "https://localhost:8080/",
          "height": 204
        },
        "outputId": "66621d34-d71d-4a18-afdb-9e4531741673"
      },
      "source": [
        "# Calculate the Inter quartile range IQR\n",
        "IQR = Q3 - Q1\n",
        "\n",
        "# display the IQR\n",
        "IQR"
      ],
      "execution_count": null,
      "outputs": [
        {
          "output_type": "execute_result",
          "data": {
            "text/plain": [
              "year               2.0\n",
              "bank_acc           0.0\n",
              "location           1.0\n",
              "cell_phone         1.0\n",
              "household_size     3.0\n",
              "age               23.0\n",
              "gender             1.0\n",
              "relationship       4.0\n",
              "marital_status     1.0\n",
              "education          1.0\n",
              "dtype: float64"
            ]
          },
          "metadata": {
            "tags": []
          },
          "execution_count": 180
        }
      ]
    },
    {
      "cell_type": "code",
      "metadata": {
        "id": "qnly0JvW98vc",
        "colab_type": "code",
        "colab": {
          "base_uri": "https://localhost:8080/",
          "height": 204
        },
        "outputId": "1316fba2-793c-42f6-b3bd-f6f063746a8f"
      },
      "source": [
        "# find and dispay the standard deviation\n",
        "df_clean.std()"
      ],
      "execution_count": null,
      "outputs": [
        {
          "output_type": "execute_result",
          "data": {
            "text/plain": [
              "year               0.901740\n",
              "bank_acc           0.348278\n",
              "location           0.487520\n",
              "cell_phone         0.437223\n",
              "household_size     2.281184\n",
              "age               16.519803\n",
              "gender             0.491886\n",
              "relationship       1.893657\n",
              "marital_status     0.997860\n",
              "education          1.208854\n",
              "dtype: float64"
            ]
          },
          "metadata": {
            "tags": []
          },
          "execution_count": 181
        }
      ]
    },
    {
      "cell_type": "code",
      "metadata": {
        "id": "Bs24M3T_-EYj",
        "colab_type": "code",
        "colab": {
          "base_uri": "https://localhost:8080/",
          "height": 204
        },
        "outputId": "e9a431a3-8e67-48b0-ab0a-949d2a84b877"
      },
      "source": [
        "# find and display the variance\n",
        "df_clean.var()"
      ],
      "execution_count": null,
      "outputs": [
        {
          "output_type": "execute_result",
          "data": {
            "text/plain": [
              "year                0.813136\n",
              "bank_acc            0.121298\n",
              "location            0.237676\n",
              "cell_phone          0.191164\n",
              "household_size      5.203798\n",
              "age               272.903908\n",
              "gender              0.241952\n",
              "relationship        3.585937\n",
              "marital_status      0.995724\n",
              "education           1.461329\n",
              "dtype: float64"
            ]
          },
          "metadata": {
            "tags": []
          },
          "execution_count": 182
        }
      ]
    },
    {
      "cell_type": "code",
      "metadata": {
        "id": "LSGam_gB-K3_",
        "colab_type": "code",
        "colab": {
          "base_uri": "https://localhost:8080/",
          "height": 204
        },
        "outputId": "d025fa88-159f-4c8e-c885-d35987ad3fce"
      },
      "source": [
        "# find and display the skew\n",
        "df_clean.skew()"
      ],
      "execution_count": null,
      "outputs": [
        {
          "output_type": "execute_result",
          "data": {
            "text/plain": [
              "year              4.223164\n",
              "bank_acc          2.060362\n",
              "location          0.455656\n",
              "cell_phone       -1.109726\n",
              "household_size    0.974109\n",
              "age               0.840662\n",
              "gender            0.365034\n",
              "relationship      0.624390\n",
              "marital_status   -0.681969\n",
              "education        -0.022775\n",
              "dtype: float64"
            ]
          },
          "metadata": {
            "tags": []
          },
          "execution_count": 183
        }
      ]
    },
    {
      "cell_type": "code",
      "metadata": {
        "id": "-6-mymjr-Qat",
        "colab_type": "code",
        "colab": {
          "base_uri": "https://localhost:8080/",
          "height": 204
        },
        "outputId": "b38c4a13-7d51-421f-c66e-e8d6454a0123"
      },
      "source": [
        "# find and display the kurtosis\n",
        "df_clean.kurt()"
      ],
      "execution_count": null,
      "outputs": [
        {
          "output_type": "execute_result",
          "data": {
            "text/plain": [
              "year              164.914183\n",
              "bank_acc            2.245282\n",
              "location           -1.792531\n",
              "cell_phone         -0.768575\n",
              "household_size      1.153869\n",
              "age                 0.098447\n",
              "gender             -1.866910\n",
              "relationship       -1.396786\n",
              "marital_status      0.734491\n",
              "education           0.231030\n",
              "dtype: float64"
            ]
          },
          "metadata": {
            "tags": []
          },
          "execution_count": 184
        }
      ]
    },
    {
      "cell_type": "code",
      "metadata": {
        "id": "f2ZciN3XCpqF",
        "colab_type": "code",
        "colab": {
          "base_uri": "https://localhost:8080/",
          "height": 102
        },
        "outputId": "e42a6df5-0d7a-4026-dd86-936db3936dd4"
      },
      "source": [
        "# finding the frequency of the countries\n",
        "data = df_clean\n",
        "frequency_df = pd.DataFrame(data, columns=['country'])\n",
        "frequency_df\n",
        "\n",
        "# Creating our frequency table\n",
        "# ---\n",
        "frequency_df.country.value_counts()"
      ],
      "execution_count": null,
      "outputs": [
        {
          "output_type": "execute_result",
          "data": {
            "text/plain": [
              "Rwanda      8684\n",
              "Tanzania    6500\n",
              "Kenya       6064\n",
              "Uganda      2095\n",
              "Name: country, dtype: int64"
            ]
          },
          "metadata": {
            "tags": []
          },
          "execution_count": 191
        }
      ]
    },
    {
      "cell_type": "code",
      "metadata": {
        "id": "c0kc4FVFDTHy",
        "colab_type": "code",
        "colab": {
          "base_uri": "https://localhost:8080/",
          "height": 204
        },
        "outputId": "d450996d-384c-4c52-b2e2-7a988db2082b"
      },
      "source": [
        "# finding the frequency of the job type\n",
        "\n",
        "frequency_df = pd.DataFrame(data, columns=['job_type'])\n",
        "frequency_df\n",
        "\n",
        "# Creating our frequency table\n",
        "# ---\n",
        "frequency_df.job_type.value_counts()"
      ],
      "execution_count": null,
      "outputs": [
        {
          "output_type": "execute_result",
          "data": {
            "text/plain": [
              "Self employed                   6361\n",
              "Informally employed             5550\n",
              "Farming and Fishing             5422\n",
              "Remittance Dependent            2509\n",
              "Other Income                    1077\n",
              "Formally employed Private       1048\n",
              "No Income                        618\n",
              "Formally employed Government     386\n",
              "Government Dependent             247\n",
              "Dont Know/Refuse to answer       125\n",
              "Name: job_type, dtype: int64"
            ]
          },
          "metadata": {
            "tags": []
          },
          "execution_count": 192
        }
      ]
    },
    {
      "cell_type": "code",
      "metadata": {
        "id": "rgZBu5C4Dgpt",
        "colab_type": "code",
        "colab": {
          "base_uri": "https://localhost:8080/",
          "height": 136
        },
        "outputId": "6711fb74-830e-47d5-ff19-6e32764600ab"
      },
      "source": [
        "# finding the frequency of relationship\n",
        "data = df\n",
        "frequency_df = pd.DataFrame(data, columns=['relationship'])\n",
        "frequency_df\n",
        "\n",
        "# Creating our frequency table\n",
        "# ---\n",
        "frequency_df.relationship.value_counts()"
      ],
      "execution_count": null,
      "outputs": [
        {
          "output_type": "execute_result",
          "data": {
            "text/plain": [
              "Head of Household      12829\n",
              "Spouse                  6518\n",
              "Child                   2229\n",
              "Parent                  1086\n",
              "Other relative           668\n",
              "Other non-relatives      190\n",
              "Name: relationship, dtype: int64"
            ]
          },
          "metadata": {
            "tags": []
          },
          "execution_count": 195
        }
      ]
    },
    {
      "cell_type": "code",
      "metadata": {
        "id": "iw4hhhi0DvSP",
        "colab_type": "code",
        "colab": {
          "base_uri": "https://localhost:8080/",
          "height": 119
        },
        "outputId": "7818089e-36bb-4a52-8691-67fe1324b6e3"
      },
      "source": [
        "# finding the frequency of marital status\n",
        "frequency_df = pd.DataFrame(data, columns=['marital_status'])\n",
        "frequency_df\n",
        "\n",
        "# Creating our frequency table\n",
        "# ---\n",
        "frequency_df.marital_status.value_counts()"
      ],
      "execution_count": null,
      "outputs": [
        {
          "output_type": "execute_result",
          "data": {
            "text/plain": [
              "Married/Living together    10739\n",
              "Single/Never Married        7971\n",
              "Widowed                     2702\n",
              "Divorced/Seperated          2072\n",
              "Dont know                      8\n",
              "Name: marital_status, dtype: int64"
            ]
          },
          "metadata": {
            "tags": []
          },
          "execution_count": 196
        }
      ]
    },
    {
      "cell_type": "markdown",
      "metadata": {
        "id": "69Dr9RJI-ZyT",
        "colab_type": "text"
      },
      "source": [
        "**Plots**"
      ]
    },
    {
      "cell_type": "code",
      "metadata": {
        "id": "kRZNFMey-cV4",
        "colab_type": "code",
        "colab": {
          "base_uri": "https://localhost:8080/",
          "height": 295
        },
        "outputId": "8953dcf6-a540-43be-d587-843529aca6f1"
      },
      "source": [
        "# histogram\n",
        "\n",
        "points = df_clean['bank_acc']\n",
        "plt.hist(points, bins=2, histtype='bar', rwidth=0.9)\n",
        "plt.ylabel('Number')\n",
        "plt.xlabel('yes(1.0) or no(0.0)')\n",
        "plt.title('Histogram of number of people with accounts and no accounts')\n",
        "plt.show()"
      ],
      "execution_count": null,
      "outputs": [
        {
          "output_type": "display_data",
          "data": {
            "image/png": "[encoded data removed]",
            "text/plain": [
              "<Figure size 432x288 with 1 Axes>"
            ]
          },
          "metadata": {
            "tags": [],
            "needs_background": "light"
          }
        }
      ]
    },
    {
      "cell_type": "markdown",
      "metadata": {
        "id": "sxiHkbenm1yE",
        "colab_type": "text"
      },
      "source": [
        "Implementing the solution\n"
      ]
    },
    {
      "cell_type": "code",
      "metadata": {
        "id": "yugRxaEFm4VD",
        "colab_type": "code",
        "colab": {
          "base_uri": "https://localhost:8080/",
          "height": 34
        },
        "outputId": "ea0f57ea-d6cd-4447-ed6c-d84d684e1f16"
      },
      "source": [
        "# Figure out how we can predict which individuals are most likely to have or use a bank account.\n",
        "a = df_clean['bank_acc'] == 'Yes'\n",
        "b = df_clean[a]\n",
        "c = b['bank_acc'].count()\n",
        "print(\"There are\", c, \"individuals with bank accounts!\")\n",
        "\n",
        "# while we cannot predict who is likely to have a bank account yet we can determine who uses a bank account"
      ],
      "execution_count": null,
      "outputs": [
        {
          "output_type": "stream",
          "text": [
            "There are 3297 individuals with bank accounts!\n"
          ],
          "name": "stdout"
        }
      ]
    },
    {
      "cell_type": "markdown",
      "metadata": {
        "id": "mTzQFzGuwbh-",
        "colab_type": "text"
      },
      "source": [
        "# 3. Bivariate analysis"
      ]
    },
    {
      "cell_type": "markdown",
      "metadata": {
        "id": "fgasSWLAGldH",
        "colab_type": "text"
      },
      "source": [
        "Plots"
      ]
    },
    {
      "cell_type": "code",
      "metadata": {
        "id": "4KqX8eyBmBpi",
        "colab_type": "code",
        "colab": {
          "base_uri": "https://localhost:8080/",
          "height": 567
        },
        "outputId": "731bc932-87ae-436e-b996-0e6420b37b96"
      },
      "source": [
        "# Ploting the bivariate summaries and recording our observations\n",
        "#\n",
        "sns.pairplot(df_clean)\n",
        "plt.show()"
      ],
      "execution_count": null,
      "outputs": [
        {
          "output_type": "display_data",
          "data": {
            "image/png": "[encoded data removed]",
            "text/plain": [
              "<Figure size 540x540 with 12 Axes>"
            ]
          },
          "metadata": {
            "tags": [],
            "needs_background": "light"
          }
        }
      ]
    },
    {
      "cell_type": "code",
      "metadata": {
        "id": "JpUYbQY0GnwS",
        "colab_type": "code",
        "colab": {
          "base_uri": "https://localhost:8080/",
          "height": 300
        },
        "outputId": "2c6aa1e6-4002-42d1-b565-581e575b7c62"
      },
      "source": [
        "# Plotting our line graph\n",
        "df_clean[[\"household_size\"]].plot()\n",
        "\n",
        "# Giving a title to our line graph\n",
        "plt.title(\"Total size of households\", fontsize=14, y=1.015)\n",
        "\n",
        "# Labelling the y-axis\n",
        "plt.ylabel('Size')\n",
        "\n",
        "# Labelling the x-axis\n",
        "plt.xlabel('from scipy import stats')\n",
        "\n",
        "# Displaying our graph\n",
        "plt.show()"
      ],
      "execution_count": null,
      "outputs": [
        {
          "output_type": "display_data",
          "data": {
            "image/png": "[encoded data removed]",
            "text/plain": [
              "<Figure size 432x288 with 1 Axes>"
            ]
          },
          "metadata": {
            "tags": [],
            "needs_background": "light"
          }
        }
      ]
    },
    {
      "cell_type": "code",
      "metadata": {
        "id": "pSFWTRBYHOU7",
        "colab_type": "code",
        "colab": {
          "base_uri": "https://localhost:8080/",
          "height": 51
        },
        "outputId": "3a2559df-e801-4bd3-89c6-da85e6fbfe36"
      },
      "source": [
        "# perfomring a z-test on age\n",
        "from scipy import stats\n",
        "stats.zscore(df_clean['age'])"
      ],
      "execution_count": null,
      "outputs": [
        {
          "output_type": "execute_result",
          "data": {
            "text/plain": [
              "array([-0.89624712,  1.88834928, -0.77517771, ..., -0.71464301,\n",
              "       -0.53303889, -1.13838594])"
            ]
          },
          "metadata": {
            "tags": []
          },
          "execution_count": 211
        }
      ]
    },
    {
      "cell_type": "code",
      "metadata": {
        "id": "ieAHuF1FIG7a",
        "colab_type": "code",
        "colab": {
          "base_uri": "https://localhost:8080/",
          "height": 51
        },
        "outputId": "afcbbb3e-1d32-4800-dfb6-63764f6c47fe"
      },
      "source": [
        "# performing a z-test on household size\n",
        "stats.zscore(df_clean['household_size'])"
      ],
      "execution_count": null,
      "outputs": [
        {
          "output_type": "execute_result",
          "data": {
            "text/plain": [
              "array([-0.30188629,  0.57487037,  0.57487037, ...,  0.57487037,\n",
              "        1.45162703,  2.76676201])"
            ]
          },
          "metadata": {
            "tags": []
          },
          "execution_count": 212
        }
      ]
    },
    {
      "cell_type": "code",
      "metadata": {
        "id": "OP0NJoXfo9-6",
        "colab_type": "code",
        "colab": {}
      },
      "source": [
        "# convert the values in our categorical columns to numerals so as to work wit them\n",
        "from sklearn.preprocessing import LabelEncoder\n",
        "\n",
        "number = LabelEncoder()\n",
        "df_clean['gender'] = number.fit_transform(df_clean['gender'].astype('str')) \n",
        "df_clean['bank_acc'] = number.fit_transform(df_clean['bank_acc'].astype('str')) \n",
        "df_clean['location'] = number.fit_transform(df_clean['location'].astype('str')) \n",
        "df_clean['marital_status'] = number.fit_transform(df_clean['marital_status'].astype('str')) \n",
        "df_clean['education'] = number.fit_transform(df_clean['education'].astype('str')) \n",
        "df_clean['relationship'] = number.fit_transform(df_clean['relationship'].astype('str')) \n",
        "df_clean['cell_phone'] = number.fit_transform(df_clean['cell_phone'].astype('str')) \n",
        "#df_clean['job_type'] = number.fit_transform(df_clean['job_type'].astype('str')) "
      ],
      "execution_count": null,
      "outputs": []
    },
    {
      "cell_type": "code",
      "metadata": {
        "id": "y04CDwLpuJhj",
        "colab_type": "code",
        "colab": {
          "base_uri": "https://localhost:8080/",
          "height": 340
        },
        "outputId": "c038fa34-08d3-4a19-e793-c11eaefaa984"
      },
      "source": [
        "df_clean.info()"
      ],
      "execution_count": null,
      "outputs": [
        {
          "output_type": "stream",
          "text": [
            "<class 'pandas.core.frame.DataFrame'>\n",
            "Int64Index: 23343 entries, 0 to 23523\n",
            "Data columns (total 12 columns):\n",
            " #   Column          Non-Null Count  Dtype  \n",
            "---  ------          --------------  -----  \n",
            " 0   country         23343 non-null  object \n",
            " 1   year            23343 non-null  int64  \n",
            " 2   bank_acc        23343 non-null  int64  \n",
            " 3   location        23343 non-null  int64  \n",
            " 4   cell_phone      23343 non-null  int64  \n",
            " 5   household_size  23343 non-null  float64\n",
            " 6   age             23343 non-null  float64\n",
            " 7   gender          23343 non-null  int64  \n",
            " 8   relationship    23343 non-null  int64  \n",
            " 9   marital_status  23343 non-null  int64  \n",
            " 10  education       23343 non-null  int64  \n",
            " 11  job_type        23343 non-null  object \n",
            "dtypes: float64(2), int64(8), object(2)\n",
            "memory usage: 2.9+ MB\n"
          ],
          "name": "stdout"
        }
      ]
    },
    {
      "cell_type": "code",
      "metadata": {
        "id": "yoGiam_fvbc_",
        "colab_type": "code",
        "colab": {
          "base_uri": "https://localhost:8080/",
          "height": 204
        },
        "outputId": "28f8a7a2-d9ca-4470-e5c3-41ff56fe5769"
      },
      "source": [
        "# preview the data\n",
        "df_clean.head()"
      ],
      "execution_count": null,
      "outputs": [
        {
          "output_type": "execute_result",
          "data": {
            "text/html": [
              "<div>\n",
              "<style scoped>\n",
              "    .dataframe tbody tr th:only-of-type {\n",
              "        vertical-align: middle;\n",
              "    }\n",
              "\n",
              "    .dataframe tbody tr th {\n",
              "        vertical-align: top;\n",
              "    }\n",
              "\n",
              "    .dataframe thead th {\n",
              "        text-align: right;\n",
              "    }\n",
              "</style>\n",
              "<table border=\"1\" class=\"dataframe\">\n",
              "  <thead>\n",
              "    <tr style=\"text-align: right;\">\n",
              "      <th></th>\n",
              "      <th>country</th>\n",
              "      <th>year</th>\n",
              "      <th>bank_acc</th>\n",
              "      <th>location</th>\n",
              "      <th>cell_phone</th>\n",
              "      <th>household_size</th>\n",
              "      <th>age</th>\n",
              "      <th>gender</th>\n",
              "      <th>relationship</th>\n",
              "      <th>marital_status</th>\n",
              "      <th>education</th>\n",
              "      <th>job_type</th>\n",
              "    </tr>\n",
              "  </thead>\n",
              "  <tbody>\n",
              "    <tr>\n",
              "      <th>0</th>\n",
              "      <td>Kenya</td>\n",
              "      <td>2018</td>\n",
              "      <td>1</td>\n",
              "      <td>0</td>\n",
              "      <td>1</td>\n",
              "      <td>3.0</td>\n",
              "      <td>24.0</td>\n",
              "      <td>0</td>\n",
              "      <td>5</td>\n",
              "      <td>2</td>\n",
              "      <td>4</td>\n",
              "      <td>Self employed</td>\n",
              "    </tr>\n",
              "    <tr>\n",
              "      <th>1</th>\n",
              "      <td>Kenya</td>\n",
              "      <td>2018</td>\n",
              "      <td>0</td>\n",
              "      <td>0</td>\n",
              "      <td>0</td>\n",
              "      <td>5.0</td>\n",
              "      <td>70.0</td>\n",
              "      <td>0</td>\n",
              "      <td>1</td>\n",
              "      <td>4</td>\n",
              "      <td>1</td>\n",
              "      <td>Government Dependent</td>\n",
              "    </tr>\n",
              "    <tr>\n",
              "      <th>2</th>\n",
              "      <td>Kenya</td>\n",
              "      <td>2018</td>\n",
              "      <td>1</td>\n",
              "      <td>1</td>\n",
              "      <td>1</td>\n",
              "      <td>5.0</td>\n",
              "      <td>26.0</td>\n",
              "      <td>1</td>\n",
              "      <td>3</td>\n",
              "      <td>3</td>\n",
              "      <td>6</td>\n",
              "      <td>Self employed</td>\n",
              "    </tr>\n",
              "    <tr>\n",
              "      <th>3</th>\n",
              "      <td>Kenya</td>\n",
              "      <td>2018</td>\n",
              "      <td>0</td>\n",
              "      <td>0</td>\n",
              "      <td>1</td>\n",
              "      <td>5.0</td>\n",
              "      <td>34.0</td>\n",
              "      <td>0</td>\n",
              "      <td>1</td>\n",
              "      <td>2</td>\n",
              "      <td>3</td>\n",
              "      <td>Formally employed Private</td>\n",
              "    </tr>\n",
              "    <tr>\n",
              "      <th>4</th>\n",
              "      <td>Kenya</td>\n",
              "      <td>2018</td>\n",
              "      <td>0</td>\n",
              "      <td>1</td>\n",
              "      <td>0</td>\n",
              "      <td>8.0</td>\n",
              "      <td>26.0</td>\n",
              "      <td>1</td>\n",
              "      <td>0</td>\n",
              "      <td>3</td>\n",
              "      <td>3</td>\n",
              "      <td>Informally employed</td>\n",
              "    </tr>\n",
              "  </tbody>\n",
              "</table>\n",
              "</div>"
            ],
            "text/plain": [
              "  country  year  bank_acc  ...  marital_status  education                   job_type\n",
              "0   Kenya  2018         1  ...               2          4              Self employed\n",
              "1   Kenya  2018         0  ...               4          1       Government Dependent\n",
              "2   Kenya  2018         1  ...               3          6              Self employed\n",
              "3   Kenya  2018         0  ...               2          3  Formally employed Private\n",
              "4   Kenya  2018         0  ...               3          3        Informally employed\n",
              "\n",
              "[5 rows x 12 columns]"
            ]
          },
          "metadata": {
            "tags": []
          },
          "execution_count": 201
        }
      ]
    },
    {
      "cell_type": "markdown",
      "metadata": {
        "id": "MP1kCnrbviK0",
        "colab_type": "text"
      },
      "source": [
        "bank_acc yes = 1 and no = 0\n",
        "\n",
        "\n",
        "---\n",
        "location  rural = 0 and urban = 1\n",
        "\n",
        "\n",
        "---\n",
        "\n",
        "cell_phone yes = 1 and no = 0\n",
        "\n",
        "\n",
        "---\n",
        "\n",
        "gender female = 0 and male = 1\n",
        "\n",
        "\n",
        "---\n",
        "\n",
        "\n"
      ]
    },
    {
      "cell_type": "code",
      "metadata": {
        "id": "Lq6E8O35oU2m",
        "colab_type": "code",
        "colab": {
          "base_uri": "https://localhost:8080/",
          "height": 433
        },
        "outputId": "9060ac92-c467-4aa5-b41f-0c72984117bd"
      },
      "source": [
        "# Implementing the Solution\n",
        "# Figure out how we can predict which individuals are most likely to have or use a bank account.\n",
        "plt.figure(figsize = (16,7))\n",
        "sns.heatmap(df_clean[['bank_acc', 'location', 'cell_phone', 'household_size', 'age', 'gender', 'relationship', 'marital_status', 'education', 'job_type']].corr(),annot=True)\n",
        "plt.show()"
      ],
      "execution_count": null,
      "outputs": [
        {
          "output_type": "display_data",
          "data": {
            "image/png": "[encoded data removed]",
            "text/plain": [
              "<Figure size 1152x504 with 2 Axes>"
            ]
          },
          "metadata": {
            "tags": [],
            "needs_background": "light"
          }
        }
      ]
    },
    {
      "cell_type": "markdown",
      "metadata": {
        "id": "m33g8BkkwMzO",
        "colab_type": "text"
      },
      "source": [
        "1. Location: As the location increases to one the likely hood of bank account also increases. But low positive correlation(0.089).\n",
        "2. Cell Phone: As more people have a cell phone then likely hood of bank account increases. Low positive correlation(0.21).\n",
        "3. Household Size: Household size has a negative correlation so as the size increases the likely hood of bank account drops. correlation = -0.0023.\n",
        "4. Age: As age increases there is a small chance that the likely hood of owning a bank account increases. low positive correlation (0.02)\n",
        "5. Gender: There is a correlation of 0.12 meaning that slightly more males have the likelyhood of owning a bank account\n",
        "6. Education: The type of education has a chance of showing the likelyhood of a person owning a bank account. \n"
      ]
    },
    {
      "cell_type": "code",
      "metadata": {
        "id": "rZseVrHHJOWM",
        "colab_type": "code",
        "colab": {
          "base_uri": "https://localhost:8080/",
          "height": 376
        },
        "outputId": "b5ef7a94-a115-4075-8d77-7e9a803f4f15"
      },
      "source": [
        "# find the pearson correlation coefficient\n",
        "corrrelation    = df_clean.corr(method=\"pearson\");\n",
        "\n",
        "print(\"Pearson correlation coefficient:\");\n",
        "\n",
        "corrrelation\n"
      ],
      "execution_count": null,
      "outputs": [
        {
          "output_type": "stream",
          "text": [
            "Pearson correlation coefficient:\n"
          ],
          "name": "stdout"
        },
        {
          "output_type": "execute_result",
          "data": {
            "text/html": [
              "<div>\n",
              "<style scoped>\n",
              "    .dataframe tbody tr th:only-of-type {\n",
              "        vertical-align: middle;\n",
              "    }\n",
              "\n",
              "    .dataframe tbody tr th {\n",
              "        vertical-align: top;\n",
              "    }\n",
              "\n",
              "    .dataframe thead th {\n",
              "        text-align: right;\n",
              "    }\n",
              "</style>\n",
              "<table border=\"1\" class=\"dataframe\">\n",
              "  <thead>\n",
              "    <tr style=\"text-align: right;\">\n",
              "      <th></th>\n",
              "      <th>year</th>\n",
              "      <th>bank_acc</th>\n",
              "      <th>location</th>\n",
              "      <th>cell_phone</th>\n",
              "      <th>household_size</th>\n",
              "      <th>age</th>\n",
              "      <th>gender</th>\n",
              "      <th>relationship</th>\n",
              "      <th>marital_status</th>\n",
              "      <th>education</th>\n",
              "    </tr>\n",
              "  </thead>\n",
              "  <tbody>\n",
              "    <tr>\n",
              "      <th>year</th>\n",
              "      <td>1.000000</td>\n",
              "      <td>0.109946</td>\n",
              "      <td>0.204277</td>\n",
              "      <td>-0.060700</td>\n",
              "      <td>-0.048902</td>\n",
              "      <td>-0.019062</td>\n",
              "      <td>0.002012</td>\n",
              "      <td>0.001978</td>\n",
              "      <td>-0.026290</td>\n",
              "      <td>0.167485</td>\n",
              "    </tr>\n",
              "    <tr>\n",
              "      <th>bank_acc</th>\n",
              "      <td>0.109946</td>\n",
              "      <td>1.000000</td>\n",
              "      <td>0.088731</td>\n",
              "      <td>0.209520</td>\n",
              "      <td>-0.023050</td>\n",
              "      <td>0.019645</td>\n",
              "      <td>0.116153</td>\n",
              "      <td>-0.069969</td>\n",
              "      <td>-0.038855</td>\n",
              "      <td>0.322940</td>\n",
              "    </tr>\n",
              "    <tr>\n",
              "      <th>location</th>\n",
              "      <td>0.204277</td>\n",
              "      <td>0.088731</td>\n",
              "      <td>1.000000</td>\n",
              "      <td>-0.083583</td>\n",
              "      <td>-0.274053</td>\n",
              "      <td>-0.047647</td>\n",
              "      <td>0.013313</td>\n",
              "      <td>0.016426</td>\n",
              "      <td>0.079271</td>\n",
              "      <td>0.127404</td>\n",
              "    </tr>\n",
              "    <tr>\n",
              "      <th>cell_phone</th>\n",
              "      <td>-0.060700</td>\n",
              "      <td>0.209520</td>\n",
              "      <td>-0.083583</td>\n",
              "      <td>1.000000</td>\n",
              "      <td>0.098194</td>\n",
              "      <td>-0.104016</td>\n",
              "      <td>0.102205</td>\n",
              "      <td>-0.048695</td>\n",
              "      <td>-0.094389</td>\n",
              "      <td>0.252394</td>\n",
              "    </tr>\n",
              "    <tr>\n",
              "      <th>household_size</th>\n",
              "      <td>-0.048902</td>\n",
              "      <td>-0.023050</td>\n",
              "      <td>-0.274053</td>\n",
              "      <td>0.098194</td>\n",
              "      <td>1.000000</td>\n",
              "      <td>-0.119709</td>\n",
              "      <td>0.010139</td>\n",
              "      <td>0.088651</td>\n",
              "      <td>-0.110986</td>\n",
              "      <td>-0.008248</td>\n",
              "    </tr>\n",
              "    <tr>\n",
              "      <th>age</th>\n",
              "      <td>-0.019062</td>\n",
              "      <td>0.019645</td>\n",
              "      <td>-0.047647</td>\n",
              "      <td>-0.104016</td>\n",
              "      <td>-0.119709</td>\n",
              "      <td>1.000000</td>\n",
              "      <td>0.013336</td>\n",
              "      <td>-0.150320</td>\n",
              "      <td>0.221753</td>\n",
              "      <td>-0.352995</td>\n",
              "    </tr>\n",
              "    <tr>\n",
              "      <th>gender</th>\n",
              "      <td>0.002012</td>\n",
              "      <td>0.116153</td>\n",
              "      <td>0.013313</td>\n",
              "      <td>0.102205</td>\n",
              "      <td>0.010139</td>\n",
              "      <td>0.013336</td>\n",
              "      <td>1.000000</td>\n",
              "      <td>-0.472370</td>\n",
              "      <td>-0.102639</td>\n",
              "      <td>0.119476</td>\n",
              "    </tr>\n",
              "    <tr>\n",
              "      <th>relationship</th>\n",
              "      <td>0.001978</td>\n",
              "      <td>-0.069969</td>\n",
              "      <td>0.016426</td>\n",
              "      <td>-0.048695</td>\n",
              "      <td>0.088651</td>\n",
              "      <td>-0.150320</td>\n",
              "      <td>-0.472370</td>\n",
              "      <td>1.000000</td>\n",
              "      <td>-0.142725</td>\n",
              "      <td>-0.017648</td>\n",
              "    </tr>\n",
              "    <tr>\n",
              "      <th>marital_status</th>\n",
              "      <td>-0.026290</td>\n",
              "      <td>-0.038855</td>\n",
              "      <td>0.079271</td>\n",
              "      <td>-0.094389</td>\n",
              "      <td>-0.110986</td>\n",
              "      <td>0.221753</td>\n",
              "      <td>-0.102639</td>\n",
              "      <td>-0.142725</td>\n",
              "      <td>1.000000</td>\n",
              "      <td>-0.122349</td>\n",
              "    </tr>\n",
              "    <tr>\n",
              "      <th>education</th>\n",
              "      <td>0.167485</td>\n",
              "      <td>0.322940</td>\n",
              "      <td>0.127404</td>\n",
              "      <td>0.252394</td>\n",
              "      <td>-0.008248</td>\n",
              "      <td>-0.352995</td>\n",
              "      <td>0.119476</td>\n",
              "      <td>-0.017648</td>\n",
              "      <td>-0.122349</td>\n",
              "      <td>1.000000</td>\n",
              "    </tr>\n",
              "  </tbody>\n",
              "</table>\n",
              "</div>"
            ],
            "text/plain": [
              "                    year  bank_acc  ...  marital_status  education\n",
              "year            1.000000  0.109946  ...       -0.026290   0.167485\n",
              "bank_acc        0.109946  1.000000  ...       -0.038855   0.322940\n",
              "location        0.204277  0.088731  ...        0.079271   0.127404\n",
              "cell_phone     -0.060700  0.209520  ...       -0.094389   0.252394\n",
              "household_size -0.048902 -0.023050  ...       -0.110986  -0.008248\n",
              "age            -0.019062  0.019645  ...        0.221753  -0.352995\n",
              "gender          0.002012  0.116153  ...       -0.102639   0.119476\n",
              "relationship    0.001978 -0.069969  ...       -0.142725  -0.017648\n",
              "marital_status -0.026290 -0.038855  ...        1.000000  -0.122349\n",
              "education       0.167485  0.322940  ...       -0.122349   1.000000\n",
              "\n",
              "[10 rows x 10 columns]"
            ]
          },
          "metadata": {
            "tags": []
          },
          "execution_count": 215
        }
      ]
    },
    {
      "cell_type": "markdown",
      "metadata": {
        "id": "bKiGXZK5Jqnm",
        "colab_type": "text"
      },
      "source": [
        "From the two correlations we now observe similar results\n"
      ]
    },
    {
      "cell_type": "markdown",
      "metadata": {
        "id": "-VhCmV3Awfo5",
        "colab_type": "text"
      },
      "source": [
        "# 4. Multivariate analysis"
      ]
    },
    {
      "cell_type": "markdown",
      "metadata": {
        "id": "0ONofxoXKMxg",
        "colab_type": "text"
      },
      "source": [
        "Regression analysis\n"
      ]
    },
    {
      "cell_type": "code",
      "metadata": {
        "id": "L9b_XCR-KOdp",
        "colab_type": "code",
        "colab": {
          "base_uri": "https://localhost:8080/",
          "height": 300
        },
        "outputId": "a071652d-cdf5-4d70-9a44-e5941a940712"
      },
      "source": [
        " # perform analysis on the age and size of the household\n",
        "plt.scatter(df_clean['household_size'], df_clean['age'], color='red')\n",
        "plt.title('Age vs the household size', fontsize=14)\n",
        "plt.xlabel('Househod size', fontsize=14)\n",
        "plt.ylabel('Age', fontsize=14)\n",
        "plt.grid(True)\n",
        "plt.show()"
      ],
      "execution_count": null,
      "outputs": [
        {
          "output_type": "display_data",
          "data": {
            "image/png": "[encoded data removed]",
            "text/plain": [
              "<Figure size 432x288 with 1 Axes>"
            ]
          },
          "metadata": {
            "tags": [],
            "needs_background": "light"
          }
        }
      ]
    },
    {
      "cell_type": "code",
      "metadata": {
        "id": "fbg5vwzLMVwg",
        "colab_type": "code",
        "colab": {
          "base_uri": "https://localhost:8080/",
          "height": 300
        },
        "outputId": "e978a987-cbb2-4de8-cf0a-c2a10b03670e"
      },
      "source": [
        "# perform analysis on the age, bank account and education\n",
        "plt.scatter(df_clean['age'], df_clean['education'], color='red')\n",
        "plt.title('Education vs the age ', fontsize=14)\n",
        "plt.xlabel('Age', fontsize=14)\n",
        "plt.ylabel('Education', fontsize=14)\n",
        "plt.grid(True)\n",
        "plt.show()"
      ],
      "execution_count": null,
      "outputs": [
        {
          "output_type": "display_data",
          "data": {
            "image/png": "[encoded data removed]",
            "text/plain": [
              "<Figure size 432x288 with 1 Axes>"
            ]
          },
          "metadata": {
            "tags": [],
            "needs_background": "light"
          }
        }
      ]
    },
    {
      "cell_type": "markdown",
      "metadata": {
        "id": "OTrP02sUL5gg",
        "colab_type": "text"
      },
      "source": [
        "## **Dimension reduction**"
      ]
    },
    {
      "cell_type": "markdown",
      "metadata": {
        "id": "AtZ_xmYFzFhZ",
        "colab_type": "text"
      },
      "source": [
        "We will be using Linear Discriminant Analysis(LDA)"
      ]
    },
    {
      "cell_type": "code",
      "metadata": {
        "id": "V1p2d52CzD4P",
        "colab_type": "code",
        "colab": {}
      },
      "source": [
        "# create our labels and feature sets\n",
        "X = df_clean.iloc[:, 2:11].values\n",
        "y = df_clean.iloc[:, 3].values"
      ],
      "execution_count": null,
      "outputs": []
    },
    {
      "cell_type": "code",
      "metadata": {
        "id": "XyMss3eD0E6s",
        "colab_type": "code",
        "colab": {}
      },
      "source": [
        "# divide the data into training and test sets\n",
        "from sklearn.model_selection import train_test_split\n",
        "X_train, X_test, y_train, y_test = train_test_split(X, y, test_size=0.2, random_state=0)"
      ],
      "execution_count": null,
      "outputs": []
    },
    {
      "cell_type": "code",
      "metadata": {
        "id": "A6jA1Zcd0MtT",
        "colab_type": "code",
        "colab": {}
      },
      "source": [
        "# performing feature scaling\n",
        "from sklearn.preprocessing import StandardScaler\n",
        "sc = StandardScaler()\n",
        "X_train = sc.fit_transform(X_train)\n",
        "X_test = sc.transform(X_test)"
      ],
      "execution_count": null,
      "outputs": []
    },
    {
      "cell_type": "code",
      "metadata": {
        "id": "mY2_cL_A0Sz8",
        "colab_type": "code",
        "colab": {}
      },
      "source": [
        "# Performing LDA\n",
        "\n",
        "from sklearn.discriminant_analysis import LinearDiscriminantAnalysis as LDA\n",
        "lda = LDA(n_components=1)\n",
        "X_train = lda.fit_transform(X_train, y_train)\n",
        "X_test = lda.transform(X_test)"
      ],
      "execution_count": null,
      "outputs": []
    },
    {
      "cell_type": "code",
      "metadata": {
        "id": "rDyal-KU0ch2",
        "colab_type": "code",
        "colab": {
          "base_uri": "https://localhost:8080/",
          "height": 34
        },
        "outputId": "b9ab7a44-33f3-4d8e-ccef-cbf6f3eda212"
      },
      "source": [
        "# training and making predictions\n",
        "\n",
        "from sklearn.ensemble import RandomForestClassifier\n",
        "\n",
        "classifier = RandomForestClassifier(max_depth=2, random_state=0)\n",
        "classifier.fit(X_train, y_train)\n",
        "y_pred = classifier.predict(X_test)\n",
        "y_pred"
      ],
      "execution_count": null,
      "outputs": [
        {
          "output_type": "execute_result",
          "data": {
            "text/plain": [
              "array([0, 0, 1, ..., 0, 1, 0])"
            ]
          },
          "metadata": {
            "tags": []
          },
          "execution_count": 174
        }
      ]
    },
    {
      "cell_type": "code",
      "metadata": {
        "id": "KGrbg5bM0nNE",
        "colab_type": "code",
        "colab": {
          "base_uri": "https://localhost:8080/",
          "height": 68
        },
        "outputId": "b5cfe300-5345-4b32-b6c2-8bc8413b302c"
      },
      "source": [
        "# Evaluating performance \n",
        "\n",
        "\n",
        "from sklearn.metrics import confusion_matrix\n",
        "from sklearn.metrics import accuracy_score\n",
        "\n",
        "cm = confusion_matrix(y_test, y_pred)\n",
        "print(cm)\n",
        "print('Accuracy' + str(accuracy_score(y_test, y_pred)))"
      ],
      "execution_count": null,
      "outputs": [
        {
          "output_type": "stream",
          "text": [
            "[[2851    0]\n",
            " [   0 1818]]\n",
            "Accuracy1.0\n"
          ],
          "name": "stdout"
        }
      ]
    },
    {
      "cell_type": "markdown",
      "metadata": {
        "id": "86KYGBcLUqFG",
        "colab_type": "text"
      },
      "source": [
        "Plot the LDA"
      ]
    },
    {
      "cell_type": "code",
      "metadata": {
        "id": "UF129aO9UGAi",
        "colab_type": "code",
        "colab": {}
      },
      "source": [
        "from sklearn.discriminant_analysis import LinearDiscriminantAnalysis\n",
        "lda = LinearDiscriminantAnalysis()\n",
        "X_lda = lda.fit_transform(X, y)"
      ],
      "execution_count": 244,
      "outputs": []
    },
    {
      "cell_type": "code",
      "metadata": {
        "id": "3DBMGpdNUJnT",
        "colab_type": "code",
        "colab": {
          "base_uri": "https://localhost:8080/",
          "height": 51
        },
        "outputId": "58138a95-4fe6-4a57-aadc-3ffd633d37ae"
      },
      "source": [
        "# variance of the columns\n",
        "lda.explained_variance_ratio_"
      ],
      "execution_count": 245,
      "outputs": [
        {
          "output_type": "execute_result",
          "data": {
            "text/plain": [
              "array([0.28912041, 0.18262788, 0.16962345, 0.1167055 , 0.08301253,\n",
              "       0.06565685, 0.04310127, 0.0293257 , 0.0208264 ])"
            ]
          },
          "metadata": {
            "tags": []
          },
          "execution_count": 245
        }
      ]
    },
    {
      "cell_type": "code",
      "metadata": {
        "id": "lXu6Xuc9UN3B",
        "colab_type": "code",
        "colab": {
          "base_uri": "https://localhost:8080/",
          "height": 296
        },
        "outputId": "43ec8a7c-8e98-4b34-da07-b5df9f5a531d"
      },
      "source": [
        "plt.xlabel('LD1')\n",
        "plt.ylabel('LD2')\n",
        "plt.scatter(\n",
        "    X_lda[:,0],\n",
        "    X_lda[:,1],\n",
        "    c=y,\n",
        "    cmap='rainbow',\n",
        "    alpha=0.7,\n",
        "    edgecolors='b'\n",
        ")"
      ],
      "execution_count": 241,
      "outputs": [
        {
          "output_type": "execute_result",
          "data": {
            "text/plain": [
              "<matplotlib.collections.PathCollection at 0x7fa4f5592da0>"
            ]
          },
          "metadata": {
            "tags": []
          },
          "execution_count": 241
        },
        {
          "output_type": "display_data",
          "data": {
            "image/png": "[encoded data removed]",
            "text/plain": [
              "<Figure size 432x288 with 1 Axes>"
            ]
          },
          "metadata": {
            "tags": [],
            "needs_background": "light"
          }
        }
      ]
    },
    {
      "cell_type": "markdown",
      "metadata": {
        "id": "dUj3p1RQXXDW",
        "colab_type": "text"
      },
      "source": [
        "# 5. Challenging the solution"
      ]
    },
    {
      "cell_type": "code",
      "metadata": {
        "id": "j3x3SXZ4XT_L",
        "colab_type": "code",
        "colab": {}
      },
      "source": [
        "# Reviewing the Solution \n",
        "\n",
        "# scikit-learn bootstrap\n",
        "from sklearn.utils import resample\n",
        "# data sample\n",
        "data = df_clean\n",
        "# prepare bootstrap sample\n",
        "boot = resample(data, replace=True, n_samples=23343, random_state=1)\n",
        "boot.to_csv('new.csv')\n",
        "\n"
      ],
      "execution_count": 248,
      "outputs": []
    },
    {
      "cell_type": "code",
      "metadata": {
        "id": "2k15WWSPXtLF",
        "colab_type": "code",
        "colab": {}
      },
      "source": [
        "url = \"/content/new.csv\"\n",
        "df_new = pd.read_csv(url)\n",
        "df_new.head()\n",
        "df_new = df_new.drop(columns=['Unnamed: 0'])"
      ],
      "execution_count": 279,
      "outputs": []
    },
    {
      "cell_type": "code",
      "metadata": {
        "id": "40vnChL1X-6z",
        "colab_type": "code",
        "colab": {
          "base_uri": "https://localhost:8080/",
          "height": 300
        },
        "outputId": "6d315ede-0810-4e58-8a69-6b2fdc2881bc"
      },
      "source": [
        " # perform analysis on the age and size of the household\n",
        "plt.scatter(df_new['household_size'], df_clean['age'], color='red')\n",
        "plt.title('Age vs the household size', fontsize=14)\n",
        "plt.xlabel('Househod size', fontsize=14)\n",
        "plt.ylabel('Age', fontsize=14)\n",
        "plt.grid(True)\n",
        "plt.show()"
      ],
      "execution_count": 280,
      "outputs": [
        {
          "output_type": "display_data",
          "data": {
            "image/png": "[encoded data removed]",
            "text/plain": [
              "<Figure size 432x288 with 1 Axes>"
            ]
          },
          "metadata": {
            "tags": [],
            "needs_background": "light"
          }
        }
      ]
    },
    {
      "cell_type": "code",
      "metadata": {
        "id": "oPWxRDhDYPCw",
        "colab_type": "code",
        "colab": {
          "base_uri": "https://localhost:8080/",
          "height": 300
        },
        "outputId": "a925e9be-b268-440e-a8f1-126cda843d57"
      },
      "source": [
        "# perform analysis on the age, bank account and education\n",
        "plt.scatter(df_new['age'], df_clean['education'], color='red')\n",
        "plt.title('Education vs the age ', fontsize=14)\n",
        "plt.xlabel('Age', fontsize=14)\n",
        "plt.ylabel('Education', fontsize=14)\n",
        "plt.grid(True)\n",
        "plt.show()"
      ],
      "execution_count": 251,
      "outputs": [
        {
          "output_type": "display_data",
          "data": {
            "image/png": "[encoded data removed]",
            "text/plain": [
              "<Figure size 432x288 with 1 Axes>"
            ]
          },
          "metadata": {
            "tags": [],
            "needs_background": "light"
          }
        }
      ]
    },
    {
      "cell_type": "code",
      "metadata": {
        "id": "BTdxPgujYc2V",
        "colab_type": "code",
        "colab": {}
      },
      "source": [
        "# create our labels and feature sets\n",
        "X = df_new.iloc[:, 2:11].values\n",
        "y = df_new.iloc[:, 3].values"
      ],
      "execution_count": 281,
      "outputs": []
    },
    {
      "cell_type": "code",
      "metadata": {
        "id": "1OZoorcTZcbA",
        "colab_type": "code",
        "colab": {}
      },
      "source": [
        "# divide the data into training and test sets\n",
        "from sklearn.model_selection import train_test_split\n",
        "X_train, X_test, y_train, y_test = train_test_split(X, y, test_size=0.2, random_state=0)"
      ],
      "execution_count": 282,
      "outputs": []
    },
    {
      "cell_type": "code",
      "metadata": {
        "id": "JN8ziP4kZfRH",
        "colab_type": "code",
        "colab": {}
      },
      "source": [
        "# performing feature scaling\n",
        "from sklearn.preprocessing import StandardScaler\n",
        "sc = StandardScaler()\n",
        "X_train = sc.fit_transform(X_train)\n",
        "X_test = sc.transform(X_test)"
      ],
      "execution_count": 283,
      "outputs": []
    },
    {
      "cell_type": "code",
      "metadata": {
        "id": "2Ja_rG-VYtEy",
        "colab_type": "code",
        "colab": {}
      },
      "source": [
        "# Performing LDA\n",
        "\n",
        "from sklearn.discriminant_analysis import LinearDiscriminantAnalysis as LDA\n",
        "lda = LDA(n_components=1)\n",
        "X_train = lda.fit_transform(X_train, y_train)\n",
        "X_test = lda.transform(X_test)"
      ],
      "execution_count": 284,
      "outputs": []
    },
    {
      "cell_type": "code",
      "metadata": {
        "id": "b4a89CX9YwSU",
        "colab_type": "code",
        "colab": {
          "base_uri": "https://localhost:8080/",
          "height": 34
        },
        "outputId": "26bef965-f443-4209-a2e2-38fb2573ae37"
      },
      "source": [
        "# training and making predictions\n",
        "\n",
        "from sklearn.ensemble import RandomForestClassifier\n",
        "\n",
        "classifier = RandomForestClassifier(max_depth=2, random_state=0)\n",
        "classifier.fit(X_train, y_train)\n",
        "y_pred = classifier.predict(X_test)\n",
        "y_pred"
      ],
      "execution_count": 285,
      "outputs": [
        {
          "output_type": "execute_result",
          "data": {
            "text/plain": [
              "array([0, 0, 1, ..., 0, 1, 0])"
            ]
          },
          "metadata": {
            "tags": []
          },
          "execution_count": 285
        }
      ]
    },
    {
      "cell_type": "code",
      "metadata": {
        "id": "bGnmRxVbY0eK",
        "colab_type": "code",
        "colab": {
          "base_uri": "https://localhost:8080/",
          "height": 68
        },
        "outputId": "5c1b917a-1555-4bfc-8dd8-e36691a1214b"
      },
      "source": [
        "# Evaluating performance \n",
        "\n",
        "\n",
        "from sklearn.metrics import confusion_matrix\n",
        "from sklearn.metrics import accuracy_score\n",
        "\n",
        "cm = confusion_matrix(y_test, y_pred)\n",
        "print(cm)\n",
        "print('Accuracy' + str(accuracy_score(y_test, y_pred)))"
      ],
      "execution_count": 286,
      "outputs": [
        {
          "output_type": "stream",
          "text": [
            "[[2864    0]\n",
            " [   0 1805]]\n",
            "Accuracy1.0\n"
          ],
          "name": "stdout"
        }
      ]
    }
  ]
}